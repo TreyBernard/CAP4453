{
  "nbformat": 4,
  "nbformat_minor": 0,
  "metadata": {
    "colab": {
      "name": "Image processing in python.ipynb",
      "provenance": [],
      "authorship_tag": "ABX9TyO4I0VqljpK5Bcu9LFvpm3B",
      "include_colab_link": true
    },
    "kernelspec": {
      "name": "python3",
      "display_name": "Python 3"
    },
    "language_info": {
      "name": "python"
    }
  },
  "cells": [
    {
      "cell_type": "markdown",
      "metadata": {
        "id": "view-in-github",
        "colab_type": "text"
      },
      "source": [
        "<a href=\"https://colab.research.google.com/github/gonzo1978/CAP4453/blob/main/1%20Introduction2Image_processing_in_python.ipynb\" target=\"_parent\"><img src=\"https://colab.research.google.com/assets/colab-badge.svg\" alt=\"Open In Colab\"/></a>"
      ]
    },
    {
      "cell_type": "markdown",
      "metadata": {
        "id": "OU4AAstR0HG6"
      },
      "source": [
        "#**Introduction to Image Processing in Python**\n",
        "\n",
        "By: Gonzalo Vaca-Castano\n",
        "\n",
        ">This colab notes provides an introduction to basic image processing techniques using the OpenCV computer vision library and some standard libraries in Python. \n",
        "\n",
        ">This course will have multiple homeworks. Each homeworks must be delivered as a colab notebook\n",
        "\n",
        "*Useful intro about [Colab](https://colab.research.google.com/notebooks/welcome.ipynb)*\n",
        "\n",
        "*Useful intro about [OpenCV](https://opencv.org/)*\n",
        "\n",
        "\n",
        "\n",
        "\n"
      ]
    },
    {
      "cell_type": "markdown",
      "metadata": {
        "id": "AOYql5fEDC_h"
      },
      "source": [
        "<p><img alt=\"Colaboratory logo\" height=\"45px\" src=\"/img/colab_favicon.ico\" align=\"left\" hspace=\"10px\" vspace=\"0px\"></p>\n",
        "\n",
        "<h1>What is Colaboratory?</h1>\n",
        "\n",
        "Colaboratory, or \"Colab\" for short, allows you to write and execute Python in your browser, with \n",
        "- Zero configuration required\n",
        "- Free access to GPUs\n",
        "- Easy sharing\n",
        "\n",
        "Whether you're a **student**, a **data scientist** or an **AI researcher**, Colab can make your work easier. Watch [Introduction to Colab](https://www.youtube.com/watch?v=inN8seMm7UI) to learn more, or just get started below!\n"
      ]
    },
    {
      "cell_type": "markdown",
      "metadata": {
        "id": "GJBs_flRovLc"
      },
      "source": [
        "## **Getting started**\n",
        "\n",
        "The document you are reading is not a static web page, but an interactive environment called a **Colab notebook** that lets you write and execute code.\n",
        "\n",
        "For example, here is a **code cell** with a short Python script that computes a value, stores it in a variable, and prints the result:"
      ]
    },
    {
      "cell_type": "code",
      "metadata": {
        "colab": {
          "base_uri": "https://localhost:8080/",
          "height": 34
        },
        "id": "gJr_9dXGpJ05",
        "outputId": "9f556d03-ec67-4950-a485-cfdba9ddd14d"
      },
      "source": [
        "seconds_in_a_day = 24 * 60 * 60\n",
        "seconds_in_a_day"
      ],
      "execution_count": null,
      "outputs": [
        {
          "output_type": "execute_result",
          "data": {
            "text/plain": [
              "86400"
            ]
          },
          "metadata": {
            "tags": []
          },
          "execution_count": 0
        }
      ]
    },
    {
      "cell_type": "markdown",
      "metadata": {
        "id": "hU-bCQhwCHcy"
      },
      "source": [
        "\n",
        "##Step1: Load the Dependencies\n",
        "\n",
        "> This section loads some required libraries used in this notebook: **numpy**, **pandas**, **cv2**, **skimage**, **PIL**, **matplotlib**\n",
        "\n",
        "\n",
        "*   [Numpy](https://www.numpy.org/) is an array manipulation library, used for linear algebra, Fourier transform, and random number capabilities.\n",
        "*   [Pandas](https://pandas.pydata.org/) is a library for data manipulation and data analysis.\n",
        "*   [CV2](https://opencv-python-tutroals.readthedocs.io/en/latest/py_tutorials/py_gui/py_image_display/py_image_display.html) is a library for computer vision tasks.\n",
        "*   [Skimage](https://scikit-image.org/) is a library which supports image processing applications on python.\n",
        "*   [Matplotlib](https://matplotlib.org/) is a library which generates figures and provides graphical user interface toolkit."
      ]
    },
    {
      "cell_type": "code",
      "metadata": {
        "id": "cPCc182gAAqZ"
      },
      "source": [
        "cv2.imread()"
      ],
      "execution_count": null,
      "outputs": []
    }
  ]
}