{
  "nbformat": 4,
  "nbformat_minor": 0,
  "metadata": {
    "colab": {
      "name": "3. image_filtering.ipynb",
      "provenance": [],
      "collapsed_sections": [],
      "authorship_tag": "ABX9TyOlr6WopL29rCWZ449h0gBJ",
      "include_colab_link": true
    },
    "kernelspec": {
      "name": "python3",
      "display_name": "Python 3"
    },
    "language_info": {
      "name": "python"
    }
  },
  "cells": [
    {
      "cell_type": "markdown",
      "metadata": {
        "id": "view-in-github",
        "colab_type": "text"
      },
      "source": [
        "<a href=\"https://colab.research.google.com/github/gonzo1978/CAP4453/blob/main/3_image_filtering.ipynb\" target=\"_parent\"><img src=\"https://colab.research.google.com/assets/colab-badge.svg\" alt=\"Open In Colab\"/></a>"
      ]
    },
    {
      "cell_type": "markdown",
      "metadata": {
        "id": "bKN_7d1fuHQq"
      },
      "source": [
        "#Homework 3\n",
        "1. Upload a personal image in hosting place that can be accesed using an URL. \n",
        "2. Implement a 3x3 and a 5x5 box filtering. Show the resulting images, and explain the resulting images, and their\n",
        "diﬀerences.\n"
      ]
    },
    {
      "cell_type": "code",
      "metadata": {
        "id": "MhiuE4svvKmf"
      },
      "source": [
        "from skimage import io\n",
        "import cv2\n",
        "\n",
        "#yourUrl = 'http://..'\n",
        "image = io.imread(yourUrl)\n",
        "\n",
        "#prepare the 3x3 shaped filter\n",
        "#k1 = np.array([[],[],[]])\n",
        "\n",
        "#prepare the 5x5 shaped filter\n",
        "#k2 = np.array([[],[],[]])\n",
        "\n",
        "# Normalize the kernels if needed\n",
        "\n",
        "\n",
        "# apply filter\n",
        "#img_rst = cv2.filter2D("
      ],
      "execution_count": null,
      "outputs": []
    },
    {
      "cell_type": "markdown",
      "metadata": {
        "id": "Et0nokFQwfke"
      },
      "source": [
        "3. Implement a two-dimensional Gaussian kernel with a variation (sigma) equal to 3, 5, and 10. Apply these three\n",
        "Gaussian kernels to uploaded image separately, show them on the screen, discuss the diﬀerences of\n",
        "Gaussian operations with diﬀerent sigmas. Also, compare your results with question 2: what are the differences between these ﬁlters, what do you observe ? Which ﬁltering is the most eﬀective in which images ? Why ? \n",
        "\n"
      ]
    },
    {
      "cell_type": "code",
      "metadata": {
        "id": "JcCEKEm6yKgB"
      },
      "source": [
        "#add your code here"
      ],
      "execution_count": null,
      "outputs": []
    },
    {
      "cell_type": "markdown",
      "metadata": {
        "id": "vQsiu4yu0AfW"
      },
      "source": [
        "Edit your comments here"
      ]
    },
    {
      "cell_type": "markdown",
      "metadata": {
        "id": "PJhMl4xDyJIZ"
      },
      "source": [
        "\n",
        "4. Implement Sobel filtering with 3 by 3 kernel size. Apply it to uploaded image. Show the results on\n",
        "the screen, and discuss the resulting images.\n",
        "\n"
      ]
    },
    {
      "cell_type": "code",
      "metadata": {
        "id": "WG8yyZZMx9rs"
      },
      "source": [
        "# add your code here"
      ],
      "execution_count": null,
      "outputs": []
    },
    {
      "cell_type": "markdown",
      "metadata": {
        "id": "llNQVFNs0QWI"
      },
      "source": [
        "Edit your comments here"
      ]
    },
    {
      "cell_type": "markdown",
      "metadata": {
        "id": "XqKooHcLyRrT"
      },
      "source": [
        "\n",
        "5. Use canny edge detector incorporated in opencv. Pick two diferent sets of hysteresys thresholds. What can you tell about the effect on the obtained edges.  \n"
      ]
    },
    {
      "cell_type": "code",
      "metadata": {
        "id": "ehpOIRaQyZ8c"
      },
      "source": [
        "# use the canny from openCV\n",
        "# cv.Canny(\timage, threshold1, threshold2[, edges[, apertureSize[, L2gradient]]]\t) \n"
      ],
      "execution_count": null,
      "outputs": []
    },
    {
      "cell_type": "markdown",
      "metadata": {
        "id": "Ac8kqi3A0UfR"
      },
      "source": [
        "Edit your comments here"
      ]
    },
    {
      "cell_type": "code",
      "metadata": {
        "id": "VxZ58Un10Dcv"
      },
      "source": [
        ""
      ],
      "execution_count": null,
      "outputs": []
    }
  ]
}