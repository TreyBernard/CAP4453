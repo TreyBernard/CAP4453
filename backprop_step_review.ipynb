{
  "nbformat": 4,
  "nbformat_minor": 0,
  "metadata": {
    "colab": {
      "name": "backprop_step_review.ipynb",
      "provenance": [],
      "authorship_tag": "ABX9TyOZnsYfcWT7EiGrH5JNp052",
      "include_colab_link": true
    },
    "kernelspec": {
      "name": "python3",
      "display_name": "Python 3"
    },
    "language_info": {
      "name": "python"
    }
  },
  "cells": [
    {
      "cell_type": "markdown",
      "metadata": {
        "id": "view-in-github",
        "colab_type": "text"
      },
      "source": [
        "<a href=\"https://colab.research.google.com/github/gonzo1978/CAP4453/blob/main/backprop_step_review.ipynb\" target=\"_parent\"><img src=\"https://colab.research.google.com/assets/colab-badge.svg\" alt=\"Open In Colab\"/></a>"
      ]
    },
    {
      "cell_type": "code",
      "metadata": {
        "colab": {
          "base_uri": "https://localhost:8080/"
        },
        "id": "RRJ8Syd4p29K",
        "outputId": "f936b393-0214-4f12-a054-d59057348c2f"
      },
      "source": [
        "import torch\n",
        "import torch.nn as nn\n",
        "\n",
        "# input\n",
        "x = torch.tensor([[1.1, 0.4]])\n",
        "\n",
        "# parameters\n",
        "w1=  torch.tensor([[0.3, -0.3],[-0.4, 0.6]],requires_grad=True)\n",
        "w2=  torch.tensor([[0.9],[0.3]],requires_grad=True)\n",
        "\n",
        "# groundtruth\n",
        "labels = torch.tensor([[1]])\n",
        "\n",
        "# layer 1\n",
        "z1 = torch.tanh(torch.mm(x, w1)) \n",
        "\n",
        "# layer 2\n",
        "z2 = torch.sigmoid(torch.mm(z1, w2)) \n",
        "\n",
        "print(z1)\n",
        "print(z2)\n",
        "\n",
        "loss = (z2-labels)*(z2-labels)/2\n",
        "cost = loss.mean()\n",
        "loss.backward()\n",
        "\n",
        "print('loss: ' + str(loss))\n",
        "print('cost: ' + str(cost))\n",
        "\n",
        "print(w1.grad)\n",
        "print(w2.grad)\n"
      ],
      "execution_count": null,
      "outputs": [
        {
          "output_type": "stream",
          "name": "stdout",
          "text": [
            "tensor([[ 0.1684, -0.0898]], grad_fn=<TanhBackward0>)\n",
            "tensor([[0.5311]], grad_fn=<SigmoidBackward0>)\n",
            "loss: tensor([[0.1099]], grad_fn=<DivBackward0>)\n",
            "cost: tensor(0.1099, grad_fn=<MeanBackward0>)\n",
            "tensor([[-0.1123, -0.0382],\n",
            "        [-0.0408, -0.0139]])\n",
            "tensor([[-0.0197],\n",
            "        [ 0.0105]])\n"
          ]
        }
      ]
    }
  ]
}